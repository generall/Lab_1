{
 "cells": [
  {
   "cell_type": "markdown",
   "metadata": {},
   "source": [
    "<div style=\"font-size:18pt; padding-top:20px; text-align:center\"><b>Лабораторная работа 1.</b> Вычислительный кластер и распределенная файловая система HDFS</div><hr>\n",
    "<div style=\"text-align:right;\">Папулин С.Ю. <span style=\"font-style: italic;font-weight: bold;\">(papulin_bmstu@mail.ru)</span></div>"
   ]
  },
  {
   "cell_type": "markdown",
   "metadata": {},
   "source": [
    "<a name=\"0\"></a>\n",
    "<div><span style=\"font-size:14pt; font-weight:bold\">Содержание</span>\n",
    "    <ol>\n",
    "        <li><a href=\"#1\">Развертывание кластера</a>\n",
    "            <ol style = \"list-style-type:lower-alpha\">\n",
    "                <li><a href=\"#1a\">Развертывание с использование веб-консоли</a></li>\n",
    "                <li><a href=\"#1b\">Развертывание с использование CLI</a></li>\n",
    "                <li><a href=\"#1c\">Развертывание с использование SDK</a></li>\n",
    "            </ol>\n",
    "        </li>\n",
    "        <li><a href=\"#2\">Удаленный доступ к кластеру</a>\n",
    "            <ol style = \"list-style-type:lower-alpha\">\n",
    "                <li><a href=\"#2a\">Доступ по SSH</a></li>\n",
    "                <li><a href=\"#2b\">Доступ к Web интерфейсу Hadoop </a></li>\n",
    "            </ol>\n",
    "        </li>\n",
    "        <li><a href=\"#3\">Основные команды HDFS</a></li>\n",
    "        <li><a href=\"#4\">Команды управления EMR кластером</a></li>\n",
    "        <li><a href=\"#5\">Команды для управления AWS S3</a></li>\n",
    "        <li><a href=\"#6\">Источники</a>\n",
    "        </li>\n",
    "    </ol>\n",
    "</div>"
   ]
  },
  {
   "cell_type": "markdown",
   "metadata": {},
   "source": [
    "<div>\n",
    "    <p><b>Цель лабораторной работы</b> - освоить:</p>\n",
    "    <ol>\n",
    "        <li>создание и подключение к Hadoop кластеру</li>\n",
    "        <li>базовые команды HDFS</li>\n",
    "    </ol>\n",
    "    <p><b>Необходимые средства и схема подключения</b></p>\n",
    "    <img src=\"img/structure_tools.png\" alt=\"Tools for Lab 2\" width=\"60%\" style=\"max-width:500px;\">\n",
    "    <p><b>Варианты прдключения к облаку AWS</b></p>\n",
    "    <img src=\"img/connections.png\" alt=\"Tools for Lab 2\" width=\"40%\" style=\"max-width:400px;\">\n",
    "</div>"
   ]
  },
  {
   "cell_type": "markdown",
   "metadata": {},
   "source": [
    "<a name=\"1\"></a>\n",
    "<div style=\"display:table; width:100%; padding-top:10px; padding-bottom:10px; border-bottom:1px solid lightgrey\">\n",
    "    <div style=\"display:table-row\">\n",
    "        <div style=\"display:table-cell; width:80%; font-size:14pt; font-weight:bold\">1. Развертывание кластера</div>\n",
    "    \t<div style=\"display:table-cell; width:20%; text-align:center; background-color:whitesmoke; border:1px solid lightgrey\"><a href=\"#0\">К содержанию</a></div>\n",
    "    </div>\n",
    "</div>"
   ]
  },
  {
   "cell_type": "markdown",
   "metadata": {
    "collapsed": true
   },
   "source": [
    "<a href=\"http://www.cloudera.com/downloads/quickstart_vms/5-8.html\">Cloudera QuickStart Downloads for CDH 5.8</a>"
   ]
  },
  {
   "cell_type": "markdown",
   "metadata": {},
   "source": [
    "<a name = \"1a\"></a>\n",
    "<div style = \"display:table; width:100%\">\n",
    "    <div style = \"display:table-row\">\n",
    "        <div style = \"display:table-cell; width:80%; font-style:italic; font-weight:bold; font-size:12pt\">\n",
    "            a. Развертывание с использование веб-консоли\n",
    "        </div>\n",
    "        <div style=\"display:table-cell; border:1px solid lightgrey; width:20%\">\n",
    "            <div style = \"display:table-cell; width:10%; text-align:center; background-color:whitesmoke;\">\n",
    "                <a href=\"#1\">Назад</a>\n",
    "            </div>\n",
    "            <div style = \"display:table-cell; width:10%; text-align:center;\">\n",
    "                <a href=\"#1b\">Далее</a>\n",
    "            </div>\n",
    "        </div>\n",
    "    </div>\n",
    "</div>"
   ]
  },
  {
   "cell_type": "markdown",
   "metadata": {},
   "source": [
    "<p><b>AWS</b></p>\n",
    "<p>\n",
    "<a href=\"https://aws.amazon.com/ru/emr/\">Amazon EMR</a><br>\n",
    "<a href=\"http://docs.aws.amazon.com/AWSEC2/latest/UserGuide/ec2-resource-limits.html\">Amazon EC2 Service Limits</a><br>\n",
    "<a href=\"http://docs.aws.amazon.com/ElasticMapReduce/latest/DeveloperGuide/gsg-launch-cluster.html\">Step 3: Launch an Amazon EMR Cluster</a></p>"
   ]
  },
  {
   "cell_type": "markdown",
   "metadata": {},
   "source": [
    "<b>Azure</b>"
   ]
  },
  {
   "cell_type": "markdown",
   "metadata": {
    "collapsed": true
   },
   "source": [
    "<a href=\"https://drive.google.com/open?id=0BzC4KvvQ_6JUQTdhSXY1RWd1VGs\">Инструкция по развертыванию кластера в MS Azure</a>"
   ]
  },
  {
   "cell_type": "markdown",
   "metadata": {},
   "source": [
    "<a name = \"1b\"></a>\n",
    "<div style = \"display:table; width:100%\">\n",
    "    <div style = \"display:table-row\">\n",
    "        <div style = \"display:table-cell; width:80%; font-style:italic; font-weight:bold; font-size:12pt\">\n",
    "            b. Развертывание с использование CLI\n",
    "        </div>\n",
    "        <div style=\"display:table-cell; border:1px solid lightgrey; width:20%\">\n",
    "            <div style = \"display:table-cell; width:10%; text-align:center; background-color:whitesmoke;\">\n",
    "                <a href=\"#1a\">Назад</a>\n",
    "            </div>\n",
    "            <div style = \"display:table-cell; width:10%; text-align:center;\">\n",
    "                <a href=\"#1c\">Далее</a>\n",
    "            </div>\n",
    "        </div>\n",
    "    </div>\n",
    "</div>"
   ]
  },
  {
   "cell_type": "code",
   "execution_count": null,
   "metadata": {
    "collapsed": false
   },
   "outputs": [],
   "source": [
    "%%bash\n",
    "pip install awscli"
   ]
  },
  {
   "cell_type": "code",
   "execution_count": null,
   "metadata": {
    "collapsed": false
   },
   "outputs": [],
   "source": [
    "%%bash\n",
    "aws --version"
   ]
  },
  {
   "cell_type": "markdown",
   "metadata": {},
   "source": [
    "<a href=\"https://aws.amazon.com/ru/cli/\">Интерфейс командной строки AWS</a><br>\n",
    "<a href=\"http://docs.aws.amazon.com/cli/latest/userguide/cli-chap-welcome.html\">What Is the AWS Command Line Interface?</a><br>\n",
    "<a href=\"http://docs.aws.amazon.com/cli/latest/userguide/cli-chap-getting-set-up.html#cli-signup\">Getting Set Up with the AWS Command Line Interface</a>"
   ]
  },
  {
   "cell_type": "code",
   "execution_count": null,
   "metadata": {
    "collapsed": false
   },
   "outputs": [],
   "source": [
    "%%bash\n",
    "KEY_ID=YOUR_KEY_ID\n",
    "ACCESS_KEY=YOUR_ACCESS_KEY\n",
    "REGION=YOUR_REGION\n",
    "\n",
    "aws configure set aws_access_key_id $KEY_ID\n",
    "aws configure set aws_secret_access_key $ACCESS_KEY\n",
    "aws configure set region $REGION"
   ]
  },
  {
   "cell_type": "markdown",
   "metadata": {},
   "source": [
    "<a href=\"http://docs.aws.amazon.com/cli/latest/reference/emr/create-cluster.html\">create-cluster</a>"
   ]
  },
  {
   "cell_type": "code",
   "execution_count": null,
   "metadata": {
    "collapsed": true
   },
   "outputs": [],
   "source": [
    "#Развернуть кластер"
   ]
  },
  {
   "cell_type": "code",
   "execution_count": null,
   "metadata": {
    "collapsed": false
   },
   "outputs": [],
   "source": [
    "%%bash\n",
    "aws ec2 describe-instances"
   ]
  },
  {
   "cell_type": "markdown",
   "metadata": {},
   "source": [
    "<a href=\"http://docs.aws.amazon.com/cli/latest/reference/emr/#\">CLI emr</a>"
   ]
  },
  {
   "cell_type": "code",
   "execution_count": null,
   "metadata": {
    "collapsed": true
   },
   "outputs": [],
   "source": [
    "%%bash\n",
    "aws emr list-clusters --active"
   ]
  },
  {
   "cell_type": "code",
   "execution_count": null,
   "metadata": {
    "collapsed": true
   },
   "outputs": [],
   "source": [
    "%%bash\n",
    "CLUSTER_ID=\n",
    "aws emr describe-cluster --cluster-id $CLUSTER_ID"
   ]
  },
  {
   "cell_type": "markdown",
   "metadata": {},
   "source": [
    "<b>Azure</b>"
   ]
  },
  {
   "cell_type": "markdown",
   "metadata": {},
   "source": [
    "Установка Azure CLI:"
   ]
  },
  {
   "cell_type": "markdown",
   "metadata": {},
   "source": [
    "Есть три варианта установки, описанные в данной <a href=\"https://azure.microsoft.com/en-us/documentation/articles/xplat-cli-install/\">инструкции</a>. \n",
    "Рекомендуется использовать второй (установка с инсталятора) как самый надежный."
   ]
  },
  {
   "cell_type": "markdown",
   "metadata": {},
   "source": [
    "Создание кластера:"
   ]
  },
  {
   "cell_type": "code",
   "execution_count": null,
   "metadata": {
    "collapsed": true
   },
   "outputs": [],
   "source": [
    "%%bash\n",
    "\n",
    "# вам предложат ввести логин/пароль вашей учетной записи\n",
    "azure login\n",
    "# переключение на Azure Resource Manager\n",
    "azure config mode arm\n",
    "# создание группы аналогично веб-варианту\n",
    "azure group create groupname location\n",
    "# создание стораджа, для информации по флагам в комманде: azure storage account create -h\n",
    "azure storage account create -g groupname --sku-name RAGRS -l location --kind Storage storagename\n",
    "# получение ключа, результат выполнения команды нужно сохранить\n",
    "azure storage account keys list -g groupname storagename\n",
    "# непосредственно создание кластера\n",
    "azure hdinsight cluster create -g groupname -l location -y Linux \\\n",
    "    --clusterType Hadoop --defaultStorageAccountName storagename.blob.core.windows.net \\\n",
    "    --defaultStorageAccountKey storagekey --defaultStorageContainer clustername --workerNodeCount 2 \\\n",
    "    --userName admin --password httppassword --sshUserName sshuser --sshPassword sshuserpassword clustername\n",
    "    \n",
    "# за более полным описание по ссылке: \n",
    "# https://azure.microsoft.com/en-us/documentation/articles/hdinsight-hadoop-create-linux-clusters-azure-cli/"
   ]
  },
  {
   "cell_type": "markdown",
   "metadata": {},
   "source": [
    "<a name = \"1c\"></a>\n",
    "<div style = \"display:table; width:100%\">\n",
    "    <div style = \"display:table-row\">\n",
    "        <div style = \"display:table-cell; width:80%; font-style:italic; font-weight:bold; font-size:12pt\">\n",
    "            b. Развертывание с использование SDK\n",
    "        </div>\n",
    "        <div style=\"display:table-cell; border:1px solid lightgrey; width:20%\">\n",
    "            <div style = \"display:table-cell; width:10%; text-align:center; background-color:whitesmoke;\">\n",
    "                <a href=\"#1a\">Назад</a>\n",
    "            </div>\n",
    "            <div style = \"display:table-cell; width:10%; text-align:center;\">\n",
    "                <a href=\"#1c\">Далее</a>\n",
    "            </div>\n",
    "        </div>\n",
    "    </div>\n",
    "</div>"
   ]
  },
  {
   "cell_type": "code",
   "execution_count": null,
   "metadata": {
    "collapsed": true
   },
   "outputs": [],
   "source": []
  },
  {
   "cell_type": "markdown",
   "metadata": {},
   "source": [
    "<a name=\"2\"></a>\n",
    "<div style=\"display:table; width:100%; padding-top:10px; padding-bottom:10px; border-bottom:1px solid lightgrey\">\n",
    "    <div style=\"display:table-row\">\n",
    "        <div style=\"display:table-cell; width:80%; font-size:14pt; font-weight:bold\">2. Удаленный доступ к кластеру</div>\n",
    "    \t<div style=\"display:table-cell; width:20%; text-align:center; background-color:whitesmoke; border:1px solid lightgrey\"><a href=\"#0\">К содержанию</a></div>\n",
    "    </div>\n",
    "</div>"
   ]
  },
  {
   "cell_type": "markdown",
   "metadata": {},
   "source": [
    "<a name = \"2a\"></a>\n",
    "<div style = \"display:table; width:100%\">\n",
    "    <div style = \"display:table-row\">\n",
    "        <div style = \"display:table-cell; width:80%; font-style:italic; font-weight:bold; font-size:12pt\">\n",
    "            a. Доступ по SSH \n",
    "        </div>\n",
    "        <div style=\"display:table-cell; border:1px solid lightgrey; width:20%\">\n",
    "            <div style = \"display:table-cell; width:10%; text-align:center; background-color:whitesmoke;\">\n",
    "                <a href=\"#2\">Назад</a>\n",
    "            </div>\n",
    "            <div style = \"display:table-cell; width:10%; text-align:center;\">\n",
    "                <a href=\"#2b\">Далее</a>\n",
    "            </div>\n",
    "        </div>\n",
    "    </div>\n",
    "</div>"
   ]
  },
  {
   "cell_type": "markdown",
   "metadata": {},
   "source": [
    "<p><b>Cloudera</b></p>"
   ]
  },
  {
   "cell_type": "markdown",
   "metadata": {},
   "source": [
    "<a href=\"https://www.centos.org/docs/5/html/Deployment_Guide-en-US/s1-networkscripts-interfaces.html\">Interface Configuration Files - CentOS</a>"
   ]
  },
  {
   "cell_type": "markdown",
   "metadata": {},
   "source": [
    "1. cd /etc/sysconfig/network-scripts/\n",
    "2. sudo touch ifcfg-eth2\n",
    "3. sudo nano ifcfg-eth2"
   ]
  },
  {
   "cell_type": "markdown",
   "metadata": {},
   "source": [
    "DEVICE=eth2 <br>\n",
    "BOOTPROTO=static <br>\n",
    "HWADDR=08:00:27:59:29:88 <br>\n",
    "IPADDR=192.168.1.112 <br>\n",
    "NETMASK=255.255.255.0 <br>\n",
    "ONBOOT=yes <br>\n",
    "TYPE=Ethernet <br>\n",
    "\n",
    "DEVICE=eth2 <br>\n",
    "BOOTPROTO=dhcp <br>\n",
    "ONBOOT=yes <br>"
   ]
  },
  {
   "cell_type": "markdown",
   "metadata": {},
   "source": [
    "4. sudo ifdown eth2\n",
    "5. sudo ifup eth2"
   ]
  },
  {
   "cell_type": "code",
   "execution_count": null,
   "metadata": {
    "collapsed": false
   },
   "outputs": [],
   "source": [
    "%%bash\n",
    "CLOUDERA_IP=192.168.42.29\n",
    "\n",
    "ssh $CLOUDERA_IP #ssh connection\n",
    "echo -----HDFS version-----\n",
    "hdfs version #hdfs version\n",
    "echo\n",
    "echo -----HDFS node report-----\n",
    "hdfs dfsadmin -report #hdfs node report"
   ]
  },
  {
   "cell_type": "markdown",
   "metadata": {},
   "source": [
    "<p><b>AWS</b></p>"
   ]
  },
  {
   "cell_type": "markdown",
   "metadata": {},
   "source": [
    "<a href=\"http://docs.aws.amazon.com/ElasticMapReduce/latest/DeveloperGuide/emr-connect-master-node-ssh.html\">Connect to the Master Node Using SSH</a>"
   ]
  },
  {
   "cell_type": "markdown",
   "metadata": {},
   "source": [
    "<a href=\"http://docs.aws.amazon.com/AWSEC2/latest/UserGuide/authorizing-access-to-an-instance.html\">Authorizing Inbound Traffic for Your Linux Instances</a>"
   ]
  },
  {
   "cell_type": "markdown",
   "metadata": {},
   "source": [
    "<a href=\"http://checkip.amazonaws.com/\">Публичный IP</a>"
   ]
  },
  {
   "cell_type": "code",
   "execution_count": null,
   "metadata": {
    "collapsed": false
   },
   "outputs": [],
   "source": [
    "%%bash\n",
    "CLUSTER_DNS=YOUR_CLUSTER_DNS\n",
    "KEY_PATH=YOUR_KEY_PATH.pem\n",
    "\n",
    "ssh -i $KEY_PATH hadoop@$CLUSTER_DNS #ssh connection\n",
    "echo -----HDFS version-----\n",
    "hdfs version #hdfs version\n",
    "echo\n",
    "echo -----HDFS node report-----\n",
    "hdfs dfsadmin -report #hdfs node report"
   ]
  },
  {
   "cell_type": "markdown",
   "metadata": {},
   "source": [
    "<p><b>Azure</b></p>"
   ]
  },
  {
   "cell_type": "code",
   "execution_count": null,
   "metadata": {
    "collapsed": true
   },
   "outputs": [],
   "source": [
    "%%bash\n",
    "\n",
    "# узнать строку подключения можно кликнув на ваш кластер на portal.azure.com (см. вверху вкладку \"Безопасная оболочка\")\n",
    "ssh username@user-cluster-ssh.azurehdinsight.net"
   ]
  },
  {
   "cell_type": "markdown",
   "metadata": {},
   "source": [
    "<a name = \"2b\"></a>\n",
    "<div style = \"display:table; width:100%\">\n",
    "    <div style = \"display:table-row\">\n",
    "        <div style = \"display:table-cell; width:80%; font-style:italic; font-weight:bold; font-size:12pt\">\n",
    "            b. Доступ к Web интерфейсу Hadoop \n",
    "        </div>\n",
    "        <div style=\"display:table-cell; border:1px solid lightgrey; width:20%\">\n",
    "            <div style = \"display:table-cell; width:10%; text-align:center; background-color:whitesmoke;\">\n",
    "                <a href=\"#2a\">Назад</a>\n",
    "            </div>\n",
    "            <div style = \"display:table-cell; width:10%; text-align:center;\">\n",
    "                <a href=\"#3\">Далее</a>\n",
    "            </div>\n",
    "        </div>\n",
    "    </div>\n",
    "</div>"
   ]
  },
  {
   "cell_type": "markdown",
   "metadata": {},
   "source": [
    "<p><b>Cloudera</b></p>"
   ]
  },
  {
   "cell_type": "markdown",
   "metadata": {},
   "source": [
    "<a href=\"https://help.ubuntu.com/community/SSH/OpenSSH/PortForwarding\">SSH/OpenSSH/PortForwarding</a>"
   ]
  },
  {
   "cell_type": "markdown",
   "metadata": {},
   "source": [
    "<a href=\"https://www.cloudera.com/documentation/enterprise/5-6-x/topics/cdh_ig_ports_cdh5.html\">Service Ports</a>"
   ]
  },
  {
   "cell_type": "code",
   "execution_count": null,
   "metadata": {
    "collapsed": false
   },
   "outputs": [],
   "source": [
    "%%bash\n",
    "CLOUDERA_IP=192.168.42.29\n",
    "\n",
    "ssh -N -L 8055:$CLOUDERA_IP:50070 $CLOUDERA_IP"
   ]
  },
  {
   "cell_type": "markdown",
   "metadata": {},
   "source": [
    "<a href=\"http://localhost:8055/\">http://localhost:8055/</a>"
   ]
  },
  {
   "cell_type": "markdown",
   "metadata": {},
   "source": [
    "<p><b>AWS</b></p>"
   ]
  },
  {
   "cell_type": "markdown",
   "metadata": {},
   "source": [
    "<a href=\"http://docs.aws.amazon.com/ElasticMapReduce/latest/DeveloperGuide/emr-ssh-tunnel-local.html\">Set Up an SSH Tunnel to the Master Node Using Local Port Forwarding</a>"
   ]
  },
  {
   "cell_type": "markdown",
   "metadata": {},
   "source": [
    "<a href=\"http://docs.aws.amazon.com/ElasticMapReduce/latest/ReleaseGuide/emr-4.7.0/emr-release-differences.html#d0e28804\">Service Ports</a>"
   ]
  },
  {
   "cell_type": "markdown",
   "metadata": {},
   "source": [
    "Придварительно добавить свой IP в разрешенные для подключения: https://aws.amazon.com/premiumsupport/knowledge-center/ec2-linux-ssh-troubleshooting/"
   ]
  },
  {
   "cell_type": "code",
   "execution_count": null,
   "metadata": {
    "collapsed": false
   },
   "outputs": [],
   "source": [
    "%%bash\n",
    "CLUSTER_DNS=YOUR_CLUSTER_DNS\n",
    "KEY_PATH=YOUR_KEY_PATH.pem\n",
    "\n",
    "ssh -i $KEY_PATH -N -L 8155:$CLUSTER_DNS:50070 hadoop@$CLUSTER_DNS"
   ]
  },
  {
   "cell_type": "markdown",
   "metadata": {},
   "source": [
    "<a href=\"http://localhost:8155/\">http://localhost:8155/</a>"
   ]
  },
  {
   "cell_type": "markdown",
   "metadata": {},
   "source": [
    "<p><b>Azure</b></p>"
   ]
  },
  {
   "cell_type": "markdown",
   "metadata": {
    "collapsed": true
   },
   "source": [
    "Для получения доступа к веб-интерфейсу необходимо выбрать ваш кластер на <a href=\"https://portal.azure.com\">portal.azure.com</a>.\n",
    "\n",
    "На вкладке \"Overview\" будет представлен URL адреса - это ссылка на веб-интерфейс Ambari."
   ]
  },
  {
   "cell_type": "markdown",
   "metadata": {},
   "source": [
    "<a name=\"3\"></a>\n",
    "<div style=\"display:table; width:100%; padding-top:10px; padding-bottom:10px; border-bottom:1px solid lightgrey\">\n",
    "    <div style=\"display:table-row\">\n",
    "        <div style=\"display:table-cell; width:80%; font-size:14pt; font-weight:bold\">3. Основные команды HDFS</div>\n",
    "    \t<div style=\"display:table-cell; width:20%; text-align:center; background-color:whitesmoke; border:1px solid lightgrey\"><a href=\"#0\">К содержанию</a></div>\n",
    "    </div>\n",
    "</div>"
   ]
  },
  {
   "cell_type": "markdown",
   "metadata": {},
   "source": [
    "<p>Отображение узлов HDFS</p>"
   ]
  },
  {
   "cell_type": "code",
   "execution_count": null,
   "metadata": {
    "collapsed": true
   },
   "outputs": [],
   "source": []
  },
  {
   "cell_type": "markdown",
   "metadata": {
    "collapsed": true
   },
   "source": [
    "<p>Копирование локальных данных в HDFS</p>"
   ]
  },
  {
   "cell_type": "code",
   "execution_count": null,
   "metadata": {
    "collapsed": true
   },
   "outputs": [],
   "source": []
  },
  {
   "cell_type": "markdown",
   "metadata": {},
   "source": [
    "<p>Копирование данных из HDFS на локальный диск</p>"
   ]
  },
  {
   "cell_type": "code",
   "execution_count": null,
   "metadata": {
    "collapsed": true
   },
   "outputs": [],
   "source": []
  },
  {
   "cell_type": "markdown",
   "metadata": {},
   "source": []
  },
  {
   "cell_type": "code",
   "execution_count": null,
   "metadata": {
    "collapsed": true
   },
   "outputs": [],
   "source": []
  },
  {
   "cell_type": "markdown",
   "metadata": {},
   "source": [
    "<a name=\"4\"></a>\n",
    "<div style=\"display:table; width:100%; padding-top:10px; padding-bottom:10px; border-bottom:1px solid lightgrey\">\n",
    "    <div style=\"display:table-row\">\n",
    "        <div style=\"display:table-cell; width:80%; font-size:14pt; font-weight:bold\">4. Команды управления EMR кластером</div>\n",
    "    \t<div style=\"display:table-cell; width:20%; text-align:center; background-color:whitesmoke; border:1px solid lightgrey\"><a href=\"#0\">К содержанию</a></div>\n",
    "    </div>\n",
    "</div>"
   ]
  },
  {
   "cell_type": "markdown",
   "metadata": {},
   "source": [
    "<a href=\"http://docs.aws.amazon.com/cli/latest/reference/emr/index.html#cli-aws-emr\">CLI EMR</a><br>\n",
    "<a href=\"http://docs.aws.amazon.com/cli/latest/reference/ec2/index.html#cli-aws-ec2\">CLI EC2</a>"
   ]
  },
  {
   "cell_type": "markdown",
   "metadata": {},
   "source": [
    "<p>Настройка CLI AWS</p>"
   ]
  },
  {
   "cell_type": "code",
   "execution_count": null,
   "metadata": {
    "collapsed": true
   },
   "outputs": [],
   "source": [
    "%%bash\n",
    "KEY_ID=YOUR_KEY_ID\n",
    "ACCESS_KEY=YOUR_ACCESS_KEY\n",
    "REGION=YOUR_REGION\n",
    "\n",
    "aws configure set aws_access_key_id $KEY_ID\n",
    "aws configure set aws_secret_access_key $ACCESS_KEY\n",
    "aws configure set region $REGION"
   ]
  },
  {
   "cell_type": "markdown",
   "metadata": {},
   "source": [
    "<p>Создание кластера</p>"
   ]
  },
  {
   "cell_type": "markdown",
   "metadata": {},
   "source": [
    " Перед этим действием необходимо создать S3 бакет и объект lab1/logs/\n",
    " \n",
    " \n",
    " А также создать базовые группы прав: http://stackoverflow.com/questions/27953582/emr-service-role-is-invalid-when-creating-emr-cluster\n",
    " \n",
    " Cписок допустимых инстансов:https://aws.amazon.com/emr/pricing/\n",
    " \n",
    " Предварительно создать сеть VPC: http://docs.aws.amazon.com/ElasticMapReduce/latest/DeveloperGuide/emr-plan-vpc-subnet.html#emr-vpc-launching-job-flows\n",
    " \n",
    "`hadoop_keys`: http://docs.aws.amazon.com/AWSEC2/latest/UserGuide/ec2-key-pairs.html#having-ec2-create-your-key-pair"
   ]
  },
  {
   "cell_type": "code",
   "execution_count": null,
   "metadata": {
    "collapsed": true
   },
   "outputs": [],
   "source": [
    "%%bash\n",
    "aws emr create-cluster --name \"Hadoop_Cluster\" \\\n",
    "--release-label emr-5.0.0 \\\n",
    "--applications Name=Hadoop Name=Zeppelin \\\n",
    "--log-uri s3://aws-mr-jobs-labs/lab1/logs/ \\\n",
    "--use-default-roles \\\n",
    "--instance-groups InstanceGroupType=MASTER,InstanceCount=1,InstanceType=m4.large InstanceGroupType=CORE,InstanceCount=2,InstanceType=m4.large \\\n",
    "--ec2-attributes KeyName=hadoop_keys,SubnetId=<subnet-id_of_subnet_here>\n"
   ]
  },
  {
   "cell_type": "markdown",
   "metadata": {},
   "source": [
    "<p>Список кластеров</p>"
   ]
  },
  {
   "cell_type": "code",
   "execution_count": null,
   "metadata": {
    "collapsed": true
   },
   "outputs": [],
   "source": [
    "%%bash\n",
    "aws emr list-clusters --active"
   ]
  },
  {
   "cell_type": "markdown",
   "metadata": {},
   "source": [
    "<p>Список активных кластеров</p>"
   ]
  },
  {
   "cell_type": "code",
   "execution_count": null,
   "metadata": {
    "collapsed": true
   },
   "outputs": [],
   "source": [
    "%%bash\n",
    "aws emr list-clusters --active"
   ]
  },
  {
   "cell_type": "markdown",
   "metadata": {},
   "source": [
    "<p>Подробное описание кластера по ID</p>"
   ]
  },
  {
   "cell_type": "code",
   "execution_count": null,
   "metadata": {
    "collapsed": true
   },
   "outputs": [],
   "source": [
    "%%bash\n",
    "aws emr describe-cluster --cluster-id CLUSTER_ID"
   ]
  },
  {
   "cell_type": "markdown",
   "metadata": {},
   "source": [
    "<p>Подробное описание узлов/инстансов</p>"
   ]
  },
  {
   "cell_type": "code",
   "execution_count": null,
   "metadata": {
    "collapsed": true
   },
   "outputs": [],
   "source": [
    "%%bash\n",
    "aws ec2 describe-instances"
   ]
  },
  {
   "cell_type": "markdown",
   "metadata": {},
   "source": [
    "<p>Остановка кластера по ID</p>"
   ]
  },
  {
   "cell_type": "code",
   "execution_count": null,
   "metadata": {
    "collapsed": true
   },
   "outputs": [],
   "source": [
    "%%bash\n",
    "aws emr terminate-clusters --cluster-ids CLUSTER_ID"
   ]
  },
  {
   "cell_type": "markdown",
   "metadata": {
    "collapsed": true
   },
   "source": [
    "<a name=\"5\"></a>\n",
    "<div style=\"display:table; width:100%; padding-top:10px; padding-bottom:10px; border-bottom:1px solid lightgrey\">\n",
    "    <div style=\"display:table-row\">\n",
    "        <div style=\"display:table-cell; width:80%; font-size:14pt; font-weight:bold\">5. Команды для управления AWS S3</div>\n",
    "    \t<div style=\"display:table-cell; width:20%; text-align:center; background-color:whitesmoke; border:1px solid lightgrey\"><a href=\"#0\">К содержанию</a></div>\n",
    "    </div>\n",
    "</div>"
   ]
  },
  {
   "cell_type": "markdown",
   "metadata": {},
   "source": [
    "<a href=\"http://docs.aws.amazon.com/cli/latest/reference/s3/index.html#cli-aws-s3\">CLI AWS S3</a><br>\n",
    "<a href=\"http://docs.aws.amazon.com/cli/latest/reference/s3api/index.html#cli-aws-s3api\">CLI AWS S3 API</a>"
   ]
  },
  {
   "cell_type": "markdown",
   "metadata": {},
   "source": [
    "Создание бакета"
   ]
  },
  {
   "cell_type": "code",
   "execution_count": null,
   "metadata": {
    "collapsed": true
   },
   "outputs": [],
   "source": [
    "%%bash\n",
    "aws s3 mb s3://aws-mr-jobs-labs/"
   ]
  },
  {
   "cell_type": "markdown",
   "metadata": {},
   "source": [
    "<p>Создание объекта</p>"
   ]
  },
  {
   "cell_type": "code",
   "execution_count": null,
   "metadata": {
    "collapsed": true
   },
   "outputs": [],
   "source": [
    "%%bash\n",
    "aws s3api put-object --bucket aws-mr-jobs-labs --key lab1/logs/"
   ]
  },
  {
   "cell_type": "markdown",
   "metadata": {},
   "source": [
    "Отображение списка хранения"
   ]
  },
  {
   "cell_type": "code",
   "execution_count": null,
   "metadata": {
    "collapsed": true
   },
   "outputs": [],
   "source": [
    "%%bash\n",
    "aws s3 ls --recursive --human-readable"
   ]
  },
  {
   "cell_type": "markdown",
   "metadata": {},
   "source": [
    "<p>Копирование из локальной диска в S3</p>"
   ]
  },
  {
   "cell_type": "code",
   "execution_count": null,
   "metadata": {
    "collapsed": true
   },
   "outputs": [],
   "source": [
    "%%bash\n",
    "aws s3 cp YOUR_FULL_FILE_PATH s3://aws-mr-jobs-labs/lab1/YOUR_FILE"
   ]
  },
  {
   "cell_type": "markdown",
   "metadata": {},
   "source": [
    "Копирование всего содержимого папки в S3"
   ]
  },
  {
   "cell_type": "code",
   "execution_count": null,
   "metadata": {
    "collapsed": true
   },
   "outputs": [],
   "source": [
    "%%bash\n",
    "aws s3 cp YOUR_DIR s3://aws-mr-jobs-labs/lab1/ --recursive "
   ]
  },
  {
   "cell_type": "markdown",
   "metadata": {},
   "source": [
    "Копирование объектов из S3 на локальный диск"
   ]
  },
  {
   "cell_type": "code",
   "execution_count": null,
   "metadata": {
    "collapsed": true
   },
   "outputs": [],
   "source": [
    "aws s3 cp s3://aws-mr-jobs-labs/YOUR_FILE YOUR_FULL_FILE_PATH"
   ]
  },
  {
   "cell_type": "markdown",
   "metadata": {},
   "source": [
    "Копирование объектов в S3"
   ]
  },
  {
   "cell_type": "code",
   "execution_count": null,
   "metadata": {
    "collapsed": true
   },
   "outputs": [],
   "source": [
    "aws s3 cp s3://aws-mr-jobs-labs/lab1/YOUR_FILE1 s3://aws-mr-jobs-labs/lab1/YOUR_FILE2"
   ]
  },
  {
   "cell_type": "markdown",
   "metadata": {},
   "source": [
    "<p>Перемещение объектов в S3</p>"
   ]
  },
  {
   "cell_type": "code",
   "execution_count": null,
   "metadata": {
    "collapsed": true
   },
   "outputs": [],
   "source": [
    "aws s3 mv s3://aws-mr-jobs-labs/lab1/YOUR_FILE1 s3://aws-mr-jobs-labs/YOUR_FILE1"
   ]
  },
  {
   "cell_type": "markdown",
   "metadata": {},
   "source": [
    "<p>Удаление объекта</p>"
   ]
  },
  {
   "cell_type": "code",
   "execution_count": null,
   "metadata": {
    "collapsed": true
   },
   "outputs": [],
   "source": [
    "%%bash\n",
    "aws s3 rm s3://aws-mr-jobs-labs/lab1/logs/ --recursive"
   ]
  },
  {
   "cell_type": "markdown",
   "metadata": {},
   "source": [
    "Удаление бакета"
   ]
  },
  {
   "cell_type": "code",
   "execution_count": null,
   "metadata": {
    "collapsed": true
   },
   "outputs": [],
   "source": [
    "%%bash\n",
    "aws s3 rb s3://aws-mr-jobs-labs --force"
   ]
  }
 ],
 "metadata": {
  "kernelspec": {
   "display_name": "Python 3",
   "language": "python",
   "name": "python3"
  },
  "language_info": {
   "codemirror_mode": {
    "name": "ipython",
    "version": 3
   },
   "file_extension": ".py",
   "mimetype": "text/x-python",
   "name": "python",
   "nbconvert_exporter": "python",
   "pygments_lexer": "ipython3",
   "version": "3.5.1"
  }
 },
 "nbformat": 4,
 "nbformat_minor": 1
}
